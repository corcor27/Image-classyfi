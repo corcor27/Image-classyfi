{
 "cells": [
  {
   "cell_type": "code",
   "execution_count": 2,
   "metadata": {},
   "outputs": [],
   "source": [
    "import numpy as np\n",
    "from sklearn.model_selection import train_test_split\n",
    "from sklearn import preprocessing, neighbors, svm\n",
    "\n",
    "from sklearn.utils import shuffle\n",
    "import csv\n",
    "from sklearn.model_selection import cross_val_score"
   ]
  },
  {
   "cell_type": "code",
   "execution_count": 5,
   "metadata": {},
   "outputs": [],
   "source": [
    "with open(r\"C:\\Users\\cory\\Documents\\ddsm-work\\ddsm-gradient-feature-keypoints.csv\") as csvfile:   # open csv file\n",
    "    readcsv = csv.reader(csvfile, delimiter = ',')# read file \n",
    "    density_features = []\n",
    "    for row in readcsv:\n",
    "        densitys_f = row[14]\n",
    "        density_features.append(densitys_f)\n",
    "        \n",
    "    density_features [0] = '0' # ignore first elememt of list\n",
    "    density_features.pop(0)\n",
    "features = np.array(density_features,dtype=np.float)"
   ]
  },
  {
   "cell_type": "code",
   "execution_count": 6,
   "metadata": {},
   "outputs": [],
   "source": [
    "with open(r\"C:\\Users\\cory\\Documents\\ddsm-work\\ddsm-gradient-feature-keypoints.csv\") as csvfile:   # open csv file\n",
    "    readcsv = csv.reader(csvfile, delimiter = ',')# read file \n",
    "    density = []\n",
    "    for row in readcsv:\n",
    "        dense = row[1]\n",
    "        density.append(dense)\n",
    "        \n",
    "    density[0] = '0' # ignore first elememt of list\n",
    "    density.pop(0)\n",
    "densities = np.array(density, dtype = np.int)"
   ]
  },
  {
   "cell_type": "code",
   "execution_count": 15,
   "metadata": {},
   "outputs": [],
   "source": [
    "combined_array = np.zeros((densities.shape[0],2))\n",
    "combined_array[:,0] = features\n",
    "combined_array[:,1] = densities\n",
    "#np.random.shuffle(combined_array)\n",
    "full_array = combined_array"
   ]
  },
  {
   "cell_type": "code",
   "execution_count": 30,
   "metadata": {},
   "outputs": [],
   "source": [
    "def sets(m):\n",
    "    count = 0\n",
    "    X_test = np.zeros((80,1)) #not desntiy\n",
    "    Y_test = np.zeros((80,1))\n",
    "    X_train = np.zeros((720,1))\n",
    "    Y_train = np.zeros((720,1))\n",
    "    for i in range(0,10):\n",
    "        if i == m:\n",
    "            X_test = full_array[(i*80):((i+1)*80),0].reshape((-1,1))\n",
    "            Y_test = full_array[(i*80):((i+1)*80),1].reshape((-1,1))\n",
    "        else:\n",
    "            X_train[count*80:((count+1)*80),0] = full_array[(i*80):((i+1)*80),0]\n",
    "            Y_train[count*80:((count+1)*80),0] = full_array[(i*80):((i+1)*80),1]\n",
    "            count +=1\n",
    "    return X_test, Y_test, X_train, Y_train"
   ]
  },
  {
   "cell_type": "code",
   "execution_count": 31,
   "metadata": {},
   "outputs": [],
   "source": [
    "def KNN_classifier():\n",
    "    results = np.zeros((9,10))\n",
    "    for z in range(1,10):\n",
    "        for m in range(0,10):\n",
    "            X_test, Y_test, X_train, Y_train = sets(m)\n",
    "            clf = neighbors.KNeighborsClassifier(n_neighbors = z)\n",
    "            clf.fit(X_train, Y_train)\n",
    "            accuracy = clf.predict(X_test, Y_test)\n",
    "            results[z-1,m] = accuracy\n",
    "    return results"
   ]
  },
  {
   "cell_type": "code",
   "execution_count": 32,
   "metadata": {},
   "outputs": [],
   "source": [
    "def KNN_classifier_each():\n",
    "    results = np.zeros((9,10))\n",
    "    predicted_Y = np.zeros((10,80))\n",
    "    alter_layout = np.zeros((10,80))\n",
    "    for m in range(0,10):\n",
    "        X_test, Y_test, X_train, Y_train = sets(m)\n",
    "        clf = neighbors.KNeighborsClassifier(n_neighbors = 1)\n",
    "        clf.fit(X_train, Y_train)\n",
    "        accuracy = clf.predict(X_test)\n",
    "        predicted_Y[m,:] = accuracy\n",
    "        #results[z-1,m] = accuracy\n",
    "        alter_layout[m,:] = Y_test.reshape((1,-1))\n",
    "            \n",
    "    return predicted_Y, alter_layout"
   ]
  },
  {
   "cell_type": "code",
   "execution_count": 34,
   "metadata": {},
   "outputs": [],
   "source": [
    "def counting():\n",
    "    predicted_Y, alter_layout = KNN_classifier_each()\n",
    "    \n",
    "\n"
   ]
  },
  {
   "cell_type": "code",
   "execution_count": 27,
   "metadata": {},
   "outputs": [
    {
     "ename": "NameError",
     "evalue": "name 'alter_layout' is not defined",
     "output_type": "error",
     "traceback": [
      "\u001b[1;31m---------------------------------------------------------------------------\u001b[0m",
      "\u001b[1;31mNameError\u001b[0m                                 Traceback (most recent call last)",
      "\u001b[1;32m<ipython-input-27-bdbbf95285b6>\u001b[0m in \u001b[0;36m<module>\u001b[1;34m\u001b[0m\n\u001b[1;32m----> 1\u001b[1;33m \u001b[0mprint\u001b[0m\u001b[1;33m(\u001b[0m\u001b[0malter_layout\u001b[0m\u001b[1;33m)\u001b[0m\u001b[1;33m\u001b[0m\u001b[1;33m\u001b[0m\u001b[0m\n\u001b[0m",
      "\u001b[1;31mNameError\u001b[0m: name 'alter_layout' is not defined"
     ]
    }
   ],
   "source": []
  },
  {
   "cell_type": "code",
   "execution_count": null,
   "metadata": {},
   "outputs": [],
   "source": []
  }
 ],
 "metadata": {
  "kernelspec": {
   "display_name": "Python 3",
   "language": "python",
   "name": "python3"
  },
  "language_info": {
   "codemirror_mode": {
    "name": "ipython",
    "version": 3
   },
   "file_extension": ".py",
   "mimetype": "text/x-python",
   "name": "python",
   "nbconvert_exporter": "python",
   "pygments_lexer": "ipython3",
   "version": "3.7.5"
  }
 },
 "nbformat": 4,
 "nbformat_minor": 2
}
