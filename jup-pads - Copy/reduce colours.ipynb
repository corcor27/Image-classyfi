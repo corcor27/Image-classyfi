{
 "cells": [
  {
   "cell_type": "code",
   "execution_count": 9,
   "metadata": {},
   "outputs": [
    {
     "name": "stderr",
     "output_type": "stream",
     "text": [
      "C:\\Users\\cory\\Anaconda3\\envs\\CoryEnv\\lib\\site-packages\\ipykernel_launcher.py:69: RuntimeWarning: overflow encountered in ubyte_scalars\n"
     ]
    },
    {
     "data": {
      "text/plain": [
       "True"
      ]
     },
     "execution_count": 9,
     "metadata": {},
     "output_type": "execute_result"
    }
   ],
   "source": [
    "import cv2\n",
    "import numpy as np\n",
    "import matplotlib.pyplot as plt\n",
    "import matplotlib.image as mpimg\n",
    "from scipy import ndimage\n",
    "#image = r\"C:\\Users\\cory\\Documents\\mamograms\\M\\boobies.jpg\"\n",
    "#image= '/home/cot12/Documents/jup-pads/boob.jpg'\n",
    "image = r\"C:\\Users\\cory\\Documents\\image_10-14-2019_gradmag.jpg\"\n",
    "Beginning_image = cv2.imread(image,0) #read image \"0\" for gray and \"1\" for colour\n",
    "\n",
    "def Image_check_x(image):\n",
    "    p = image.shape[0]\n",
    "    if ((p+3)/4) != int((p+3)/4):\n",
    "        if ((p+2)/4) != int((p+2)/4):\n",
    "            if ((p+1)/4) != int((p+1)/4):\n",
    "                return p\n",
    "            else:\n",
    "                return p+1\n",
    "        else:\n",
    "            return p+2\n",
    "    else:\n",
    "        return p+3\n",
    "\n",
    "\n",
    "\n",
    "def Image_check_y(image):\n",
    "    p = image.shape[1]\n",
    "    if ((p+3)/4) != int((p+3)/4):\n",
    "        if ((p+2)/4) != int((p+2)/4):\n",
    "            if ((p+1)/4) != int((p+1)/4):\n",
    "                return p\n",
    "            else:\n",
    "                return p+1\n",
    "        else:\n",
    "            return p+2\n",
    "    else:\n",
    "        return p+3\n",
    "    \n",
    "    \n",
    "q = int(Image_check_x(Beginning_image))\n",
    "u = int(Image_check_y(Beginning_image))\n",
    "beginning_image = cv2.resize(Beginning_image,(u,q))\n",
    "s = 3\n",
    "k = 2 ** (1.0 / s) #kernals\n",
    "sig = 1.6\n",
    "kvector = np.array([sig, k*sig, sig*(k**2), sig*(k**3), sig*(k**4), sig*(k**5),sig*(k**6), sig*(k**7), sig*(k**8)])\n",
    "c = -1\n",
    "threshold = 1\n",
    "\n",
    "\n",
    "doubled = cv2.resize((beginning_image), ((2*u),(2*q)))\n",
    "normal = cv2.resize((doubled),(u,q))\n",
    "pyrlvl = np.zeros((normal.shape[0], normal.shape[1]))    \n",
    "pyrlvlx = np.zeros((normal.shape[0], normal.shape[1]))\n",
    "pyrlvly = np.zeros((normal.shape[0], normal.shape[1]))\n",
    "pyrlvl = ndimage.filters.gaussian_filter(normal,kvector[0])\n",
    "pyrlvlx[:,:] = ndimage.sobel(pyrlvl, 0)\n",
    "pyrlvly[:,:] = ndimage.sobel(pyrlvl, 1)\n",
    "#pyrlvl[:,:] = ndimage.filters.gaussian_filter(normal,kvector[3])\n",
    "Exlvl1 = np.zeros((normal.shape[0], normal.shape[1]))\n",
    "Grmaglvl = np.zeros((normal.shape[0], normal.shape[1]))\n",
    "Orientlvl = np.zeros((normal.shape[0], normal.shape[1]))\n",
    "Orientlvl_absolute = np.zeros((normal.shape[0], normal.shape[1]))\n",
    "value_count = np.zeros((normal.shape[0], normal.shape[1]))\n",
    "Grmaglvl = (((pyrlvlx)**2)+((pyrlvly)**2))**0.5\n",
    "\n",
    "for j in range(1, normal.shape[0]-1):\n",
    "        for k in range(1, normal.shape[1]-1):\n",
    "            Orientlvl[j,k] = np.rint(((180/np.pi)*np.arctan2((pyrlvl[j,k+1]-pyrlvl[j,k-1]),(pyrlvl[j+1,k]-pyrlvl[j-1,k]))))\n",
    "            if Grmaglvl[j,k]> 0:\n",
    "                value_count[j,k] = 1\n",
    "number_values = np.sum(value_count)\n",
    "gradient_values = np.sum(Grmaglvl)\n",
    "mamima = np.max(Grmaglvl)\n",
    "mean = gradient_values/number_values\n",
    "lowest_value = np.min(Grmaglvl[np.nonzero(Grmaglvl)])\n",
    "qutiles = (mean-lowest_value)/2\n",
    "upper_percentile = mean + (qutiles/2)\n",
    "lower_percentile = mean - (qutiles/2)\n",
    "Orientlvl_absolute[:,:] = np.absolute(Orientlvl[:,:])\n",
    "\n",
    "for j in range(1, normal.shape[0]-1):\n",
    "    for k in range(1, normal.shape[1]-1):\n",
    "        if Grmaglvl[j,k] > 220:\n",
    "            Exlvl1[j,k] = Grmaglvl[j,k]\n",
    "\n",
    "cv2.imwrite(r\"C:\\Users\\cory\\Documents\\big-white-thing.jpg\", Exlvl1)"
   ]
  },
  {
   "cell_type": "code",
   "execution_count": null,
   "metadata": {},
   "outputs": [],
   "source": [
    "print(np.sun(Exlvl1)"
   ]
  },
  {
   "cell_type": "code",
   "execution_count": null,
   "metadata": {},
   "outputs": [],
   "source": []
  }
 ],
 "metadata": {
  "kernelspec": {
   "display_name": "Python 3",
   "language": "python",
   "name": "python3"
  },
  "language_info": {
   "codemirror_mode": {
    "name": "ipython",
    "version": 3
   },
   "file_extension": ".py",
   "mimetype": "text/x-python",
   "name": "python",
   "nbconvert_exporter": "python",
   "pygments_lexer": "ipython3",
   "version": "3.7.1"
  }
 },
 "nbformat": 4,
 "nbformat_minor": 2
}
