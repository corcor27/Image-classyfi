{
 "cells": [
  {
   "cell_type": "code",
   "execution_count": 3,
   "metadata": {},
   "outputs": [],
   "source": [
    "import csv\n",
    "import numpy as np\n",
    "import matplotlib.pyplot as plt"
   ]
  },
  {
   "cell_type": "code",
   "execution_count": 6,
   "metadata": {},
   "outputs": [],
   "source": [
    "\n",
    "with open(r\"C:\\Users\\cory\\Documents\\ddsm-work\\ddsm-feature-keypoints.csv\") as csvfile:   # open csv file\n",
    "    readcsv = csv.reader(csvfile, delimiter = ',') # read file \n",
    "    density = []\n",
    "    value = []\n",
    "    for row in readcsv:\n",
    "        densities = row[1] #finds row\n",
    "        amount = row[12]\n",
    "        density.append(densities) # fills list\n",
    "        value.append(amount)\n",
    "    density.pop(0) # ignores first item\n",
    "    value.pop(0)\n",
    "dense_array = np.array(density, dtype=np.int) #convert list of stings to numpy array\n",
    "feature_value = np.array(value, dtype=np.float)\n",
    "\n",
    "        \n",
    "    \n",
    "        \n",
    "   "
   ]
  },
  {
   "cell_type": "code",
   "execution_count": 8,
   "metadata": {},
   "outputs": [],
   "source": [
    "with open(r\"C:\\Users\\cory\\Documents\\ddsm-work\\ddsm-dense1.csv\") as csvfile:   # open csv file\n",
    "    readcsv = csv.reader(csvfile, delimiter = ',') # read file \n",
    "    dense1 = []\n",
    "    area1 = []\n",
    "    Nfeatures1 = []\n",
    "    for row in readcsv:\n",
    "        densities1 = row[12] #finds row\n",
    "        areas1 = row[7]\n",
    "        features1 = row[6]\n",
    "        area1.append(areas1)\n",
    "        Nfeatures1.append(features1)\n",
    "        dense1.append(densities1) # fills list\n",
    "    dense1.pop(0) # ignores first item\n",
    "    area1.pop(0)\n",
    "    Nfeatures1.pop(0)\n",
    "dense1_array = np.array(dense1, dtype=np.float) #convert list of stings to numpy array\n",
    "area1_array = np.array(area1, dtype=np.int)\n",
    "area1_mean = np.mean(area1_array)\n",
    "Nfeatures1_array = np.array(Nfeatures1, dtype=np.int)\n",
    "Nfeatures1_mean = np.mean(Nfeatures1_array)\n",
    "dense1_mean = np.mean(dense1_array)\n"
   ]
  },
  {
   "cell_type": "code",
   "execution_count": 9,
   "metadata": {},
   "outputs": [],
   "source": [
    "with open(r\"C:\\Users\\cory\\Documents\\ddsm-work\\ddsm-dense2.csv\") as csvfile:   # open csv file\n",
    "    readcsv = csv.reader(csvfile, delimiter = ',') # read file \n",
    "    dense2 = []\n",
    "    area2 = []\n",
    "    Nfeatures2 = []\n",
    "    for row in readcsv:\n",
    "        densities2 = row[12] #finds row\n",
    "        areas2 = row[7]\n",
    "        features2 = row[6]\n",
    "        area2.append(areas2)\n",
    "        Nfeatures2.append(features2)\n",
    "        dense2.append(densities1) # fills list\n",
    "    dense2.pop(0) # ignores first item\n",
    "    area2.pop(0)\n",
    "    Nfeatures2.pop(0)\n",
    "dense2_array = np.array(dense2, dtype=np.float) #convert list of stings to numpy array\n",
    "area2_array = np.array(area2, dtype=np.int)\n",
    "area2_mean = np.mean(area2_array)\n",
    "Nfeatures2_array = np.array(Nfeatures2, dtype=np.int)\n",
    "Nfeatures2_mean = np.mean(Nfeatures2_array)\n",
    "dense2_mean = np.mean(dense2_array)\n"
   ]
  },
  {
   "cell_type": "code",
   "execution_count": 12,
   "metadata": {},
   "outputs": [],
   "source": [
    "with open(r\"C:\\Users\\cory\\Documents\\ddsm-work\\ddsm-dense3.csv\") as csvfile:   # open csv file\n",
    "    readcsv = csv.reader(csvfile, delimiter = ',') # read file \n",
    "    dense3 = []\n",
    "    area3 = []\n",
    "    Nfeatures3 = []\n",
    "    for row in readcsv:\n",
    "        densities3 = row[12] #finds row\n",
    "        areas3 = row[7]\n",
    "        features3 = row[6]\n",
    "        area3.append(areas3)\n",
    "        Nfeatures3.append(features3)\n",
    "        dense3.append(densities3) # fills list\n",
    "    dense3.pop(0) # ignores first item\n",
    "    area3.pop(0)\n",
    "    Nfeatures3.pop(0)\n",
    "dense3_array = np.array(dense3, dtype=np.float) #convert list of stings to numpy array\n",
    "area3_array = np.array(area3, dtype=np.int)\n",
    "area3_mean = np.mean(area3_array)\n",
    "Nfeatures3_array = np.array(Nfeatures3, dtype=np.int)\n",
    "Nfeatures3_mean = np.mean(Nfeatures3_array)\n",
    "dense3_mean = np.mean(dense3_array)\n"
   ]
  },
  {
   "cell_type": "code",
   "execution_count": 13,
   "metadata": {},
   "outputs": [],
   "source": [
    "with open(r\"C:\\Users\\cory\\Documents\\ddsm-work\\ddsm-dense4.csv\") as csvfile:   # open csv file\n",
    "    readcsv = csv.reader(csvfile, delimiter = ',') # read file \n",
    "    dense4 = []\n",
    "    area4 = []\n",
    "    Nfeatures4 = []\n",
    "    for row in readcsv:\n",
    "        densities4 = row[12] #finds row\n",
    "        areas4 = row[7]\n",
    "        features4 = row[6]\n",
    "        area4.append(areas4)\n",
    "        Nfeatures4.append(features4)\n",
    "        dense4.append(densities4) # fills list\n",
    "    dense4.pop(0) # ignores first item\n",
    "    area4.pop(0)\n",
    "    Nfeatures4.pop(0)\n",
    "dense4_array = np.array(dense4, dtype=np.float) #convert list of stings to numpy array\n",
    "area4_array = np.array(area4, dtype=np.int)\n",
    "area4_mean = np.mean(area4_array)\n",
    "Nfeatures4_array = np.array(Nfeatures4, dtype=np.int)\n",
    "Nfeatures4_mean = np.mean(Nfeatures4_array)\n",
    "dense4_mean = np.mean(dense4_array)\n",
    "\n",
    "       "
   ]
  },
  {
   "cell_type": "code",
   "execution_count": 14,
   "metadata": {},
   "outputs": [
    {
     "name": "stdout",
     "output_type": "stream",
     "text": [
      "[0.9269974110882352, 1.009098408, 0.8317679131093116, 0.8923719312592592]\n"
     ]
    }
   ],
   "source": [
    "mean = [dense1_mean, dense2_mean, dense3_mean, dense4_mean]\n",
    "print(mean)"
   ]
  },
  {
   "cell_type": "code",
   "execution_count": 15,
   "metadata": {},
   "outputs": [
    {
     "data": {
      "image/png": "[encoded data removed]",
      "text/plain": [
       "<Figure size 432x288 with 1 Axes>"
      ]
     },
     "metadata": {
      "needs_background": "light"
     },
     "output_type": "display_data"
    }
   ],
   "source": [
    "plt.scatter(feature_value, dense_array)\n",
    "plt.scatter(dense1_mean, 1, c = 'r', label = 'BIRANDs1_mean')\n",
    "plt.scatter(dense2_mean, 2, c = 'g', label = 'BIRANDs2_mean')\n",
    "plt.scatter(dense3_mean, 3, c = 'y', label = 'BIRANDs3_mean')\n",
    "plt.scatter(dense4_mean, 4, c = 'brown', label = 'BIRANDs4_mean')\n",
    "plt.xlabel('Feature-density')\n",
    "plt.ylabel('BIRANDs')\n",
    "plt.legend(loc= 'upper right',fontsize=7)\n",
    "plt.title(\"Feature-density for classification\")\n",
    "plt.savefig(r\"C:\\Users\\cory\\Documents\\Feature-density.png\")"
   ]
  },
  {
   "cell_type": "code",
   "execution_count": 16,
   "metadata": {},
   "outputs": [
    {
     "data": {
      "image/png": "[encoded data removed]",
      "text/plain": [
       "<Figure size 432x288 with 4 Axes>"
      ]
     },
     "metadata": {
      "needs_background": "light"
     },
     "output_type": "display_data"
    }
   ],
   "source": [
    "plt.figure()\n",
    "\n",
    "\n",
    "plt.tight_layout()\n",
    "a = plt.subplot(2,2,1)\n",
    "a.set_title('BIRANDs 1')\n",
    "a.set_xlabel('Area')\n",
    "a.set_ylabel('Features')\n",
    "\n",
    "plt.scatter(area1_array,Nfeatures1_array)\n",
    "plt.scatter(area1_mean, Nfeatures1_mean)\n",
    "\n",
    "plt.tight_layout()\n",
    "b = plt.subplot(2,2,2)\n",
    "b.set_title('BIRANDs 2')\n",
    "b.set_xlabel('Area')\n",
    "b.set_ylabel('Features')\n",
    "\n",
    "plt.scatter(area2_array,Nfeatures2_array)\n",
    "plt.scatter(area2_mean, Nfeatures2_mean)\n",
    "\n",
    "plt.tight_layout()\n",
    "c = plt.subplot(2,2,3)\n",
    "c.set_title('BIRANDs 3')\n",
    "c.set_xlabel('Area')\n",
    "c.set_ylabel('features')\n",
    "\n",
    "plt.scatter(area3_array,Nfeatures3_array)\n",
    "plt.scatter(area3_mean, Nfeatures3_mean)\n",
    "\n",
    "plt.tight_layout()\n",
    "d = plt.subplot(2,2,4)\n",
    "d.set_title('BIRANDs 4')\n",
    "d.set_xlabel('Area')\n",
    "d.set_ylabel('Features')\n",
    "\n",
    "plt.scatter(area4_array,Nfeatures4_array)\n",
    "plt.scatter(area4_mean, Nfeatures4_mean)\n",
    "\n",
    "plt.savefig(r\"C:\\Users\\cory\\Documents\\Features-vs-area.png\")\n"
   ]
  },
  {
   "cell_type": "code",
   "execution_count": 22,
   "metadata": {},
   "outputs": [],
   "source": [
    "with open(r\"C:\\Users\\cory\\Documents\\ddsm-work\\ddsm-gradient-feature-keypoints.csv\") as csvfile:   # open csv file\n",
    "    readcsv = csv.reader(csvfile, delimiter = ',') # read file \n",
    "    density_g = []\n",
    "    value_g = []\n",
    "    for row in readcsv:\n",
    "        densities_g = row[1] #finds row\n",
    "        amount_g = row[12]\n",
    "        density_g.append(densities_g) # fills list\n",
    "        value_g.append(amount_g)\n",
    "    density_g.pop(0) # ignores first item\n",
    "    value_g.pop(0)\n",
    "dense_array_g = np.array(density_g, dtype=np.int) #convert list of stings to numpy array\n",
    "feature_value_g = np.array(value_g, dtype=np.float)\n"
   ]
  },
  {
   "cell_type": "code",
   "execution_count": 23,
   "metadata": {},
   "outputs": [],
   "source": [
    "with open(r\"C:\\Users\\cory\\Documents\\ddsm-work\\ddsm-dense1-g.csv\") as csvfile:   # open csv file\n",
    "    readcsv = csv.reader(csvfile, delimiter = ',') # read file \n",
    "    dense1_g = []\n",
    "    area1_g = []\n",
    "    Nfeatures1_g = []\n",
    "    for row in readcsv:\n",
    "        densities1_g = row[12] #finds row\n",
    "        areas1_g = row[7]\n",
    "        features1_g = row[6]\n",
    "        area1_g.append(areas1_g)\n",
    "        Nfeatures1_g.append(features1_g)\n",
    "        dense1_g.append(densities1_g) # fills list\n",
    "    dense1_g.pop(0) # ignores first item\n",
    "    area1_g.pop(0)\n",
    "    Nfeatures1_g.pop(0)\n",
    "dense1_array_g = np.array(dense1_g, dtype=np.float) #convert list of stings to numpy array\n",
    "area1_array_g = np.array(area1_g, dtype=np.int)\n",
    "area1_mean_g = np.mean(area1_array_g)\n",
    "Nfeatures1_array_g = np.array(Nfeatures1_g, dtype=np.int)\n",
    "Nfeatures1_mean_g = np.mean(Nfeatures1_array_g)\n",
    "dense1_mean_g = np.mean(dense1_array_g)"
   ]
  },
  {
   "cell_type": "code",
   "execution_count": 24,
   "metadata": {},
   "outputs": [],
   "source": [
    "with open(r\"C:\\Users\\cory\\Documents\\ddsm-work\\ddsm-dense2-g.csv\") as csvfile:   # open csv file\n",
    "    readcsv = csv.reader(csvfile, delimiter = ',') # read file \n",
    "    dense2_g = []\n",
    "    area2_g = []\n",
    "    Nfeatures2_g = []\n",
    "    for row in readcsv:\n",
    "        densities2_g = row[12] #finds row\n",
    "        areas2_g = row[7]\n",
    "        features2_g = row[6]\n",
    "        area2_g.append(areas2_g)\n",
    "        Nfeatures2_g.append(features2_g)\n",
    "        dense2_g.append(densities1_g) # fills list\n",
    "    dense2_g.pop(0) # ignores first item\n",
    "    area2_g.pop(0)\n",
    "    Nfeatures2_g.pop(0)\n",
    "dense2_array_g = np.array(dense2_g, dtype=np.float) #convert list of stings to numpy array\n",
    "area2_array_g = np.array(area2_g, dtype=np.int)\n",
    "area2_mean_g = np.mean(area2_array_g)\n",
    "Nfeatures2_array_g = np.array(Nfeatures2_g, dtype=np.int)\n",
    "Nfeatures2_mean_g = np.mean(Nfeatures2_array_g)\n",
    "dense2_mean_g = np.mean(dense2_array_g)\n"
   ]
  },
  {
   "cell_type": "code",
   "execution_count": 25,
   "metadata": {},
   "outputs": [],
   "source": [
    "with open(r\"C:\\Users\\cory\\Documents\\ddsm-work\\ddsm-dense3-g.csv\") as csvfile:   # open csv file\n",
    "    readcsv = csv.reader(csvfile, delimiter = ',') # read file \n",
    "    dense3_g = []\n",
    "    area3_g = []\n",
    "    Nfeatures3_g = []\n",
    "    for row in readcsv:\n",
    "        densities3_g = row[12] #finds row\n",
    "        areas3_g = row[7]\n",
    "        features3_g = row[6]\n",
    "        area3_g.append(areas3_g)\n",
    "        Nfeatures3_g.append(features3_g)\n",
    "        dense3_g.append(densities3_g) # fills list\n",
    "    dense3_g.pop(0) # ignores first item\n",
    "    area3_g.pop(0)\n",
    "    Nfeatures3_g.pop(0)\n",
    "dense3_array_g = np.array(dense3_g, dtype=np.float) #convert list of stings to numpy array\n",
    "area3_array_g = np.array(area3_g, dtype=np.int)\n",
    "area3_mean_g = np.mean(area3_array_g)\n",
    "Nfeatures3_array_g = np.array(Nfeatures3_g, dtype=np.int)\n",
    "Nfeatures3_mean_g = np.mean(Nfeatures3_array_g)\n",
    "dense3_mean_g = np.mean(dense3_array_g)"
   ]
  },
  {
   "cell_type": "code",
   "execution_count": 26,
   "metadata": {},
   "outputs": [],
   "source": [
    "with open(r\"C:\\Users\\cory\\Documents\\ddsm-work\\ddsm-dense4-g.csv\") as csvfile:   # open csv file\n",
    "    readcsv = csv.reader(csvfile, delimiter = ',') # read file \n",
    "    dense4_g = []\n",
    "    area4_g = []\n",
    "    Nfeatures4_g = []\n",
    "    for row in readcsv:\n",
    "        densities4_g = row[12] #finds row\n",
    "        areas4_g = row[7]\n",
    "        features4_g = row[6]\n",
    "        area4_g.append(areas4_g)\n",
    "        Nfeatures4_g.append(features4_g)\n",
    "        dense4_g.append(densities4_g) # fills list\n",
    "    dense4_g.pop(0) # ignores first item\n",
    "    area4_g.pop(0)\n",
    "    Nfeatures4_g.pop(0)\n",
    "dense4_array_g = np.array(dense4_g, dtype=np.float) #convert list of stings to numpy array\n",
    "area4_array_g = np.array(area4_g, dtype=np.int)\n",
    "area4_mean_g = np.mean(area4_array_g)\n",
    "Nfeatures4_array_g = np.array(Nfeatures4_g, dtype=np.int)\n",
    "Nfeatures4_mean_g = np.mean(Nfeatures4_array_g)\n",
    "dense4_mean_g = np.mean(dense4_array_g)\n"
   ]
  },
  {
   "cell_type": "code",
   "execution_count": 27,
   "metadata": {},
   "outputs": [
    {
     "data": {
      "image/png": "[encoded data removed]",
      "text/plain": [
       "<Figure size 432x288 with 1 Axes>"
      ]
     },
     "metadata": {
      "needs_background": "light"
     },
     "output_type": "display_data"
    }
   ],
   "source": [
    "plt.scatter(feature_value_g, dense_array_g)\n",
    "plt.scatter(dense1_mean_g, 1, c = 'r', label = 'BIRANDs1_mean')\n",
    "plt.scatter(dense2_mean_g, 2, c = 'g', label = 'BIRANDs2_mean')\n",
    "plt.scatter(dense3_mean_g, 3, c = 'y', label = 'BIRANDs3_mean')\n",
    "plt.scatter(dense4_mean_g, 4, c = 'brown', label = 'BIRANDs4_mean')\n",
    "plt.xlabel('Feature-density')\n",
    "plt.ylabel('BIRANDs')\n",
    "plt.legend(loc= 'upper right',fontsize=7)\n",
    "plt.title(\"Feature-density for classification\")\n",
    "plt.savefig(r\"C:\\Users\\cory\\Documents\\Feature-gradient-density.png\")"
   ]
  },
  {
   "cell_type": "code",
   "execution_count": 29,
   "metadata": {},
   "outputs": [
    {
     "data": {
      "image/png": "[encoded data removed]",
      "text/plain": [
       "<Figure size 432x288 with 4 Axes>"
      ]
     },
     "metadata": {
      "needs_background": "light"
     },
     "output_type": "display_data"
    }
   ],
   "source": [
    "plt.figure()\n",
    "\n",
    "\n",
    "plt.tight_layout()\n",
    "a = plt.subplot(2,2,1)\n",
    "a.set_title('BIRANDs 1')\n",
    "a.set_xlabel('Area')\n",
    "a.set_ylabel('Features')\n",
    "plt.xticks(rotation=90)\n",
    "\n",
    "plt.scatter(area1_array_g,Nfeatures1_array_g)\n",
    "plt.scatter(area1_mean_g, Nfeatures1_mean_g)\n",
    "\n",
    "plt.tight_layout()\n",
    "b = plt.subplot(2,2,2)\n",
    "b.set_title('BIRANDs 2')\n",
    "b.set_xlabel('Area')\n",
    "b.set_ylabel('Features')\n",
    "\n",
    "plt.scatter(area2_array_g,Nfeatures2_array_g)\n",
    "plt.scatter(area2_mean_g, Nfeatures2_mean_g)\n",
    "\n",
    "plt.tight_layout()\n",
    "c = plt.subplot(2,2,3)\n",
    "c.set_title('BIRANDs 3')\n",
    "c.set_xlabel('Area')\n",
    "c.set_ylabel('features')\n",
    "\n",
    "plt.scatter(area3_array_g,Nfeatures3_array_g)\n",
    "plt.scatter(area3_mean_g, Nfeatures3_mean_g)\n",
    "\n",
    "plt.tight_layout()\n",
    "d = plt.subplot(2,2,4)\n",
    "d.set_title('BIRANDs 4')\n",
    "d.set_xlabel('Area')\n",
    "d.set_ylabel('Features')\n",
    "plt.xticks(rotation=90)\n",
    "\n",
    "plt.scatter(area4_array_g,Nfeatures4_array_g)\n",
    "plt.scatter(area4_mean_g, Nfeatures4_mean_g)\n",
    "plt.savefig(r\"C:\\Users\\cory\\Documents\\gradient-Features-vs-area.png\")"
   ]
  },
  {
   "cell_type": "code",
   "execution_count": null,
   "metadata": {},
   "outputs": [],
   "source": []
  }
 ],
 "metadata": {
  "kernelspec": {
   "display_name": "Python 3",
   "language": "python",
   "name": "python3"
  },
  "language_info": {
   "codemirror_mode": {
    "name": "ipython",
    "version": 3
   },
   "file_extension": ".py",
   "mimetype": "text/x-python",
   "name": "python",
   "nbconvert_exporter": "python",
   "pygments_lexer": "ipython3",
   "version": "3.7.1"
  }
 },
 "nbformat": 4,
 "nbformat_minor": 2
}
