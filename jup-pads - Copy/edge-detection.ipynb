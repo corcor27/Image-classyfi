{
 "cells": [
  {
   "cell_type": "code",
   "execution_count": 8,
   "metadata": {},
   "outputs": [
    {
     "data": {
      "text/plain": [
       "True"
      ]
     },
     "execution_count": 8,
     "metadata": {},
     "output_type": "execute_result"
    }
   ],
   "source": [
    "import cv2\n",
    "import numpy as np\n",
    "import matplotlib.pyplot as plt\n",
    "import matplotlib.image as mpimg\n",
    "from scipy import ndimage\n",
    "\n",
    "#image = r\"C:\\Users\\cory\\Documents\\M\\client-100-84.1.jpg\"\n",
    "def edge_detection(image)\n",
    "    Beginning_image = cv2.imread(image,0) #read image \"0\" for gray and \"1\" for colour\n",
    "\n",
    "    def Image_check_x(image):\n",
    "        p = image.shape[0]\n",
    "        if ((p+3)/4) != int((p+3)/4):\n",
    "            if ((p+2)/4) != int((p+2)/4):\n",
    "                if ((p+1)/4) != int((p+1)/4):\n",
    "                    return p\n",
    "                else:\n",
    "                    return p+1\n",
    "            else:\n",
    "                return p+2\n",
    "        else:\n",
    "            return p+3\n",
    "\n",
    "\n",
    "\n",
    "    def Image_check_y(image):\n",
    "        p = image.shape[1]\n",
    "        if ((p+3)/4) != int((p+3)/4):\n",
    "            if ((p+2)/4) != int((p+2)/4):\n",
    "                if ((p+1)/4) != int((p+1)/4):\n",
    "                    return p\n",
    "                else:\n",
    "                    return p+1\n",
    "            else:\n",
    "                return p+2\n",
    "        else:\n",
    "            return p+3\n",
    "    \n",
    "    \n",
    "    q = int(Image_check_x(Beginning_image))\n",
    "    u = int(Image_check_y(Beginning_image))\n",
    "    beginning_image = cv2.resize(Beginning_image,(u,q))\n",
    "    s = 3\n",
    "    k = 2 ** (1.0 / s) #kernals\n",
    "    sig = 1.6\n",
    "    kvector = np.array([sig, k*sig, sig*(k**2), sig*(k**3), sig*(k**4), sig*(k**5),sig*(k**6), sig*(k**7), sig*(k**8)])\n",
    "    c = -1\n",
    "    threshold = 1\n",
    "\n",
    "\n",
    "    doubled = cv2.resize((beginning_image), ((2*u),(2*q)))\n",
    "    normal = cv2.resize((doubled),(u,q))\n",
    "    \n",
    "    pyrlvl = np.zeros((normal.shape[0], normal.shape[1]))\n",
    "    pyrlvl[:,:] = ndimage.filters.gaussian_filter(normal,kvector[2])\n",
    "    Exlvl1 = np.zeros((normal.shape[0], normal.shape[1]))\n",
    "    Grmaglvl = np.zeros((normal.shape[0], normal.shape[1]))\n",
    "    Orientlvl = np.zeros((normal.shape[0], normal.shape[1]))\n",
    "    Orientlvl_absolute = np.zeros((normal.shape[0], normal.shape[1]))\n",
    "\n",
    "    for j in range(1, normal.shape[0]-1):\n",
    "        for k in range(1, normal.shape[1]-1):\n",
    "            Grmaglvl[j,k] = (((pyrlvl[j+1,k]-pyrlvl[j-1,k])**2)+((pyrlvl[j,k+1]-pyrlvl[j,k-1])**2))**0.5\n",
    "            Orientlvl[j,k] = np.rint(((180/np.pi)*np.arctan2((pyrlvl[j,k+1]-pyrlvl[j,k-1]),(pyrlvl[j+1,k]-pyrlvl[j-1,k]))))\n",
    "       \n",
    "\n",
    "    Orientlvl_absolute[:,:] = np.absolute(Orientlvl[:,:])\n",
    "\n",
    "    for j in range(1, normal.shape[0]-1):\n",
    "        for k in range(1, normal.shape[1]-1):\n",
    "            if 67.5 < Orientlvl_absolute[j,k] < 112.5:\n",
    "                if pyrlvl[j,k] < pyrlvl[j,k+1] and pyrlvl[j,k] < pyrlvl[j,k-1]:\n",
    "                    Exlvl1[j,k] = 1\n",
    "            elif 0 < Orientlvl_absolute[j,k] < 22.5:\n",
    "                if pyrlvl[j,k] > pyrlvl[j+1,k] and pyrlvl[j,k] > pyrlvl[j-1,k]:\n",
    "                    Exlvl1[j,k] = 1\n",
    "            elif 157.5 < Orientlvl_absolute[j,k] < 181:\n",
    "                if pyrlvl[j,k] > pyrlvl[j+1,k] and pyrlvl[j,k] > pyrlvl[j-1,k]:\n",
    "                    Exlvl1[j,k] = 1\n",
    "            elif 22.5 < Orientlvl_absolute[j,k] < 67.5:\n",
    "                if Orientlvl[j,k] > 0:\n",
    "                    if pyrlvl[j,k] > pyrlvl[j+1,k+1] and pyrlvl[j,k] > pyrlvl[j-1,k-1]:\n",
    "                        Exlvl1[j,k] = 1\n",
    "                    else:\n",
    "                        continue\n",
    "                else:\n",
    "                    if pyrlvl[j,k] > pyrlvl[j-1,k+1] and pyrlvl[j,k] > pyrlvl[j+1,k-1]:\n",
    "                        Exlvl1[j,k] = 1\n",
    "            elif 112.5 < Orientlvl_absolute[j,k] < 157.5:\n",
    "                if Orientlvl[j,k] > 0:\n",
    "                    if pyrlvl[j,k] > pyrlvl[j-1,k+1] and pyrlvl[j,k] > pyrlvl[j+1,k-1]:\n",
    "                        Exlvl1[j,k] = 1\n",
    "                    else:\n",
    "                        continue\n",
    "                else:\n",
    "                    if pyrlvl[j,k] > pyrlvl[j+1,k+1] and pyrlvl[j,k] > pyrlvl[j-1,k-1]:\n",
    "                        Exlvl1[j,k] = 1\n",
    "    exlvl = 255*Exlvl1[:,:]\n",
    "    cv2.imwrite(r\"C:\\Users\\cory\\Documents\\M\\client-100-84.1.jpg, exlvl)\n"
   ]
  },
  {
   "cell_type": "code",
   "execution_count": 10,
   "metadata": {},
   "outputs": [
    {
     "name": "stdout",
     "output_type": "stream",
     "text": [
      "[[0. 0. 0. ... 0. 0. 0.]\n",
      " [0. 0. 0. ... 0. 0. 0.]\n",
      " [0. 0. 0. ... 0. 0. 0.]\n",
      " ...\n",
      " [0. 0. 0. ... 0. 0. 0.]\n",
      " [0. 0. 0. ... 0. 0. 0.]\n",
      " [0. 0. 0. ... 0. 0. 0.]]\n"
     ]
    }
   ],
   "source": []
  },
  {
   "cell_type": "code",
   "execution_count": null,
   "metadata": {},
   "outputs": [],
   "source": []
  }
 ],
 "metadata": {
  "kernelspec": {
   "display_name": "Python 3",
   "language": "python",
   "name": "python3"
  },
  "language_info": {
   "codemirror_mode": {
    "name": "ipython",
    "version": 3
   },
   "file_extension": ".py",
   "mimetype": "text/x-python",
   "name": "python",
   "nbconvert_exporter": "python",
   "pygments_lexer": "ipython3",
   "version": "3.7.1"
  }
 },
 "nbformat": 4,
 "nbformat_minor": 2
}
