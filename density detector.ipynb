{
 "cells": [
  {
   "cell_type": "code",
   "execution_count": 5,
   "metadata": {},
   "outputs": [],
   "source": [
    "import cv2\n",
    "import numpy as np\n",
    "import matplotlib.pyplot as plt\n",
    "import matplotlib.image as mpimg\n",
    "from scipy import ndimage\n",
    "import os\n",
    "\n",
    "\n",
    "\n",
    "image = r\"C:\\Users\\cory\\Documents\\ddsm-samples\\p_0001_1.RIGHT_MLO_b2.tif\"\n",
    "Beginning_image = cv2.imread(image,0) #read image \"0\" for gray and \"1\" for colour\n",
    "def Image_check_x(image):\n",
    "    p = image.shape[0]\n",
    "    if ((p+3)/4) != int((p+3)/4):\n",
    "        if ((p+2)/4) != int((p+2)/4):\n",
    "            if ((p+1)/4) != int((p+1)/4):\n",
    "                return p\n",
    "            else:\n",
    "                return p+1\n",
    "        else:\n",
    "            return p+2\n",
    "    else:\n",
    "        return p+3\n",
    "\n",
    "\n",
    "\n",
    "def Image_check_y(image):\n",
    "    p = image.shape[1]\n",
    "    if ((p+3)/4) != int((p+3)/4):\n",
    "        if ((p+2)/4) != int((p+2)/4):\n",
    "            if ((p+1)/4) != int((p+1)/4):\n",
    "                return p\n",
    "            else:\n",
    "                return p+1\n",
    "        else:\n",
    "            return p+2\n",
    "    else:\n",
    "        return p+3\n",
    "    \n",
    "q = int(Image_check_x(Beginning_image))\n",
    "u = int(Image_check_y(Beginning_image))\n",
    "beginning_image = cv2.resize(Beginning_image,(u,q))\n",
    "normal = Beginning_image\n",
    "normal.astype(int)\n",
    "pylvl =  np.zeros((normal.shape[0], normal.shape[1]))\n",
    "area1 = np.zeros((normal.shape[0], normal.shape[1]))\n",
    "pylvl = normal\n",
    "for j in range(1, normal.shape[0] -1):\n",
    "    for k in range(1, normal.shape[1]-1):\n",
    "        if normal[j,k]> 0:\n",
    "            area1[j,k] = 1\n",
    "A = np.sum(area1)\n",
    "area4use = int(0.2*A)\n",
    "J = 81 # spaces\n",
    "NOJ = int((area4use/J)-1)\n",
    "R_X = np.random.randint(0,high=577,size = 1000,dtype = 'int')\n",
    "R_y = np.random.randint(0,high=361,size = 1000,dtype = 'int')\n",
    "\n"
   ]
  },
  {
   "cell_type": "code",
   "execution_count": 6,
   "metadata": {},
   "outputs": [
    {
     "data": {
      "text/plain": [
       "array([[421, 108, 385, 387, 176, 235, 152, 262, 451, 248, 234, 175, 411,\n",
       "        347, 310, 312, 146, 297, 231, 307, 365, 168, 374, 315, 410, 266,\n",
       "        336, 311, 255, 391, 356, 334, 215, 252, 191, 204, 432, 187,  73,\n",
       "        458, 344, 378, 167, 184, 349, 281, 295, 248,  70, 473, 317, 239,\n",
       "        209, 338, 321, 375, 315, 289, 211, 375, 180, 459, 234, 343, 359,\n",
       "        233, 414, 215, 305, 384, 457, 319, 429, 300, 330, 302, 179, 440,\n",
       "        363, 223, 282, 328, 448, 392, 350, 157, 168, 286, 342, 361, 198,\n",
       "         61, 383, 145,  79, 444, 375, 171, 296, 287, 228, 216,  80, 339,\n",
       "        445, 413, 366, 357, 206, 402, 327, 127, 416, 266, 233, 362, 292,\n",
       "        149, 262,  89, 231, 242, 357, 415, 351, 355, 309, 240, 328, 229,\n",
       "        140,  58, 357, 143, 319, 459, 339, 346, 419, 182, 457, 113, 354,\n",
       "        155, 258, 144, 258, 138, 273, 335, 285, 441, 350],\n",
       "       [267, 306, 296, 315, 263, 293, 298, 301, 330, 307, 244, 221, 254,\n",
       "        166, 221, 303, 253, 273, 320, 175, 196, 240, 346, 241, 292, 290,\n",
       "        187, 264, 293, 258, 172, 165, 297, 265, 298, 268, 213, 260, 274,\n",
       "        337, 164, 203, 305, 291, 287, 310, 336, 234, 285, 301, 279, 321,\n",
       "        298, 243, 314, 285, 340, 258, 256, 216, 321, 296, 285, 269, 233,\n",
       "        348, 275, 339, 340, 322, 316, 174, 319, 182, 223, 286, 270, 321,\n",
       "        171, 277, 349, 186, 232, 229, 163, 284, 277, 191, 220, 349, 301,\n",
       "        276, 346, 309, 291, 298, 182, 250, 241, 257, 258, 284, 281, 298,\n",
       "        253, 211, 311, 321, 310, 330, 222, 258, 259, 269, 332, 284, 315,\n",
       "        295, 290, 270, 334, 313, 157, 239, 294, 271, 290, 343, 167, 214,\n",
       "        256, 285, 309, 295, 263, 294, 247, 293, 208, 266, 344, 293, 176,\n",
       "        311, 328, 287, 348, 293, 174, 255, 232, 256, 228]])"
      ]
     },
     "execution_count": 6,
     "metadata": {},
     "output_type": "execute_result"
    }
   ],
   "source": [
    "count = 0\n",
    "Jumper_postions = np.zeros((2,NOJ))\n",
    "for i in range(0,600):\n",
    "    if count == NOJ:\n",
    "        break\n",
    "    else:\n",
    "        if area1[R_X[i],R_y[i]] == 1:\n",
    "            good = area1[R_X[i],R_y[i]] == 1\n",
    "            for dj in range(-4,5):\n",
    "                for dk in range(-4,5):\n",
    "                    if dj ==0 and dk ==0:\n",
    "                        continue\n",
    "                    good = good and (area1[R_X[i]+dj,R_y[i]+dk] == 1)\n",
    "                \n",
    "                    if not good:\n",
    "                        break\n",
    "                if not good:\n",
    "                    break\n",
    "            if good:\n",
    "                Jumper_postions[0,count] = R_X[i]\n",
    "                Jumper_postions[1,count] = R_y[i]\n",
    "                count+=1 \n",
    "Jumper_postions.astype(int) "
   ]
  },
  {
   "cell_type": "code",
   "execution_count": null,
   "metadata": {},
   "outputs": [
    {
     "name": "stdout",
     "output_type": "stream",
     "text": [
      "[[180. 177. 176. ...   0.   0.   0.]]\n"
     ]
    }
   ],
   "source": [
    "arrayvalues = np.zeros((1,area4use))\n",
    "ii = 0\n",
    "for i in range(0,NOJ):\n",
    "    x = int(Jumper_postions[0,i])\n",
    "    y = int(Jumper_postions[1,i])\n",
    "    for j in range(-4,5):\n",
    "        for k in range(-4,5):\n",
    "            arrayvalues[0,ii] = pylvl[x+j,y+k]\n",
    "            ii+=1\n",
    "           \n",
    "print(arrayvalues)\n",
    "plt.hist(arrayvalues, 200, facecolor='blue', alpha=0.5)\n",
    "plt.show()"
   ]
  },
  {
   "cell_type": "code",
   "execution_count": null,
   "metadata": {},
   "outputs": [],
   "source": []
  }
 ],
 "metadata": {
  "kernelspec": {
   "display_name": "Python 3",
   "language": "python",
   "name": "python3"
  },
  "language_info": {
   "codemirror_mode": {
    "name": "ipython",
    "version": 3
   },
   "file_extension": ".py",
   "mimetype": "text/x-python",
   "name": "python",
   "nbconvert_exporter": "python",
   "pygments_lexer": "ipython3",
   "version": "3.7.5"
  }
 },
 "nbformat": 4,
 "nbformat_minor": 2
}
