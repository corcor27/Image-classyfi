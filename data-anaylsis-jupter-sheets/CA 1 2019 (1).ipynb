{
 "cells": [
  {
   "cell_type": "markdown",
   "metadata": {},
   "source": [
    "# Data Analysis 2019/2020 - Coursework 1 \n",
    "***\n",
    "## Deadline: Thursday 31st October 2pm"
   ]
  },
  {
   "cell_type": "markdown",
   "metadata": {},
   "source": [
    "#### Tips"
   ]
  },
  {
   "cell_type": "markdown",
   "metadata": {},
   "source": [
    "This coursework assesses learning outcomes from Block A of the course."
   ]
  },
  {
   "cell_type": "markdown",
   "metadata": {},
   "source": [
    "These assessments are equivalent to an exam:\n",
    "- Submit your work via Turn-It-In on Learning Central. Note that you will need to upload your final notebook exported as a html file. **Don't forget to click `run all` before you export it**. You can constantly update this document until the deadline.\n",
    "- Please put your name as the filename of the Jupyter notebook.\n",
    "- Please also take note of the University’s policy on plagiarism, which is outlined in your student handbook."
   ]
  },
  {
   "cell_type": "markdown",
   "metadata": {},
   "source": [
    "Marks are awarded for \n",
    "- Ability to identify the correct statistical method with sound reasoning.\n",
    "- Evidence of knowledge of the assumptions made or infered from the question.\n",
    "- Application of the statistical method, including correct treatment of the given / inferred data.  \n",
    "- Critical explanations and interpretation of the results.\n",
    "- all working, coding, figures etc must be included and you will need to accompany this with a succinct and tidy report explaining what you did and why.\n",
    "- Full marks can only be awarded where there is proof that the student understands the statistics and the data set that they are being asked to explore. Code, figures and any mathematics carried out count as workings, and must be included in the report/Jupyter notebook to obtain the relevant marks.  \n",
    "\n",
    "- Don't worry about how your code looks - marks are not given for pretty code, but rather for the approach used in solving the problem, your reasoning, explanation and answer."
   ]
  },
  {
   "cell_type": "markdown",
   "metadata": {},
   "source": [
    "***\n",
    "## QUESTION 1\n",
    "***"
   ]
  },
  {
   "cell_type": "markdown",
   "metadata": {},
   "source": [
    "A student is taking three modules, and the probability that they pass any individual module depends on the fraction of lectures attended $f$ so that the probability of passing the module is 0.9$f$. \n",
    "\n",
    "- If the student attends all lectures, ($f =1$), calculate the probability that they\n",
    "will (i) pass all three modules, (ii) fail one module and pass the other two (iii) pass only one module,  (iv) pass no modules. \n",
    "\n",
    "- Show that the sum of these four probabilities is 1. \n",
    "- Calculate the four probabilities on the assumption that the student attends only\n",
    "half of the lectures.\n",
    "- What fraction of lectures must the student attend to have a 50% chance of\n",
    "passing all three modules? \n",
    "- Is this a realistic way to model the probability that the student will pass the\n",
    "modules?\n",
    "\n",
    "[10 marks]"
   ]
  },
  {
   "cell_type": "markdown",
   "metadata": {},
   "source": [
    "#### Answer:"
   ]
  },
  {
   "cell_type": "markdown",
   "metadata": {},
   "source": [
    "Start your answer off here..."
   ]
  },
  {
   "cell_type": "markdown",
   "metadata": {},
   "source": [
    "***\n",
    "## QUESTION 2\n",
    "***"
   ]
  },
  {
   "cell_type": "markdown",
   "metadata": {},
   "source": [
    "A computer chip manufacturer suspects that roughly half of its latest batch of CPUs contains a flaw.  The accounts department are clearly concerned, and are trying to predict how the fault will affect the number of customers returning products. How many CPUs from the batch would they need to examine to know the probability that any given CPU is faulty to better than 2.5%?\n",
    "\n",
    "[15 marks]"
   ]
  },
  {
   "cell_type": "markdown",
   "metadata": {},
   "source": [
    "#### Answer:"
   ]
  },
  {
   "cell_type": "markdown",
   "metadata": {},
   "source": [
    "Start your answer off here..."
   ]
  },
  {
   "cell_type": "markdown",
   "metadata": {},
   "source": [
    "***\n",
    "## QUESTION 3\n",
    "***"
   ]
  },
  {
   "cell_type": "markdown",
   "metadata": {},
   "source": [
    "A group researching cancer have previously found that the genetic marker D3 is a useful indication that a person will develop the more aggressive form of melanoma skin cancer, in that D3 is present in 65% of the aggressive cases. However the test is expensive.  A rival group claim that the marker M23 is more sensitive than D3, and works out considerably cheaper to test for. The rival research team manage to get DNA samples from 7 patients with the aggressive form of the disease, all of whom test positive for the genetic marker M23. Based on these results, is M23 a better marker for the disease than D3? \n",
    "\n",
    "Give full mathematical working for your reasoning, and show labeled plots of the underlying functions.    \n",
    "\n",
    "[20 marks]"
   ]
  },
  {
   "cell_type": "markdown",
   "metadata": {},
   "source": [
    "#### Answer:"
   ]
  },
  {
   "cell_type": "markdown",
   "metadata": {},
   "source": [
    "Start your answer off here..."
   ]
  },
  {
   "cell_type": "markdown",
   "metadata": {},
   "source": [
    "## Question 4\n",
    "***"
   ]
  },
  {
   "cell_type": "markdown",
   "metadata": {},
   "source": [
    "The state of Florida is thinking of relaxing its policy on alcohol sales, to allow supermarkets to sell hard liquor, since the police predict that this can reduce violence. After some extensive polling, they find that only 33% and 8% of Republican and Independent voters are, respectively, behind the change in the law, while 78% of the Democrat voters are in favour.  You are visiting the state, and ask a Police Officer what she thinks of the idea. She says she’s against the change to the law. What is the probability that she votes Democrat?\n",
    "\n",
    "You will need to quote any sources of information that you use to answer this question, particularly when finding out voting statistics.  You may also assume that ‘Independent’ covers everything that is not ‘Republican’ or ‘Democrat’. \n",
    "\n",
    "[25 marks]"
   ]
  },
  {
   "cell_type": "markdown",
   "metadata": {},
   "source": [
    "#### Answer:"
   ]
  },
  {
   "cell_type": "markdown",
   "metadata": {},
   "source": [
    "Start your answer off here..."
   ]
  },
  {
   "cell_type": "markdown",
   "metadata": {},
   "source": [
    "***\n",
    "## Question 5\n",
    "***"
   ]
  },
  {
   "cell_type": "markdown",
   "metadata": {},
   "source": [
    "Ten new recruits for a basketball team are timed (in secs) in running the 100 meters and 1,500m races to determine how fast they can run. The following results were obtained,\n",
    "\n",
    "| distance | ||||||||||\n",
    "| - |- |-|-|-|-|-|-|-|-|\n",
    "| 100m:\t|\t12\t |11\t|13\t|14\t|12|\t15|\t12|\t16| 10 | 11|\n",
    "|1500m: |\t280|\t290|\t220|\t260|\t270|\t240|\t250|\t230| 280 | 260 | \n",
    "\n",
    "\n",
    "\n",
    "What trends do we see in the data above? Are they significant? \n",
    "\n",
    "Please create your **own statistical functions** when answering this question. Please include any sources you have used to answer this question.  \n",
    "\n",
    "[30 marks]\n",
    "\n",
    "\n"
   ]
  },
  {
   "cell_type": "markdown",
   "metadata": {},
   "source": [
    "#### Answer:"
   ]
  },
  {
   "cell_type": "code",
   "execution_count": 66,
   "metadata": {},
   "outputs": [
    {
     "data": {
      "image/png": "[encoded data removed]",
      "text/plain": [
       "<Figure size 432x288 with 1 Axes>"
      ]
     },
     "metadata": {
      "needs_background": "light"
     },
     "output_type": "display_data"
    }
   ],
   "source": [
    "import numpy as np\n",
    "import matplotlib.pyplot as plt\n",
    "\n",
    "x = np.array([12,11,13,14,12,15,12,16,10,11])\n",
    "y = np.array([280,290,220,260,270,240,250,230,280,260])\n",
    "x_mean = np.mean(x)\n",
    "y_mean = np.mean(y)\n",
    "x_x = np.zeros((1,10))\n",
    "x_2 = np.zeros((1,10))\n",
    "y_y = np.zeros((1,10))\n",
    "y_2 = np.zeros((1,10))\n",
    "x_y = np.zeros((1,10))\n",
    "\n",
    "for i in range(0,10):\n",
    "    x_x[0][i] = x[i]-x_mean\n",
    "    y_y[0][i] = y[i]-y_mean\n",
    "    x_2[0][i] = (x[i]-x_mean)**2\n",
    "    y_2[0][i] = (y[i]-y_mean)**2 \n",
    "    x_y[0][i] = x_x[0][i]*y_y[0][i]\n",
    "\n",
    "top = np.sum(x_y)\n",
    "bottom = np.sqrt(np.sum(x_2)*np.sum(y_2))\n",
    "r = top/bottom\n",
    "  \n",
    "plt.scatter(x,y)\n",
    "plt.show()\n"
   ]
  },
  {
   "cell_type": "code",
   "execution_count": null,
   "metadata": {},
   "outputs": [],
   "source": [
    "we see its negatively corrilated."
   ]
  }
 ],
 "metadata": {
  "kernelspec": {
   "display_name": "Python 3",
   "language": "python",
   "name": "python3"
  },
  "language_info": {
   "codemirror_mode": {
    "name": "ipython",
    "version": 3
   },
   "file_extension": ".py",
   "mimetype": "text/x-python",
   "name": "python",
   "nbconvert_exporter": "python",
   "pygments_lexer": "ipython3",
   "version": "3.7.3"
  }
 },
 "nbformat": 4,
 "nbformat_minor": 2
}
